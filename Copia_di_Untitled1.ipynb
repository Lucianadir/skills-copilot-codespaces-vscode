{
  "nbformat": 4,
  "nbformat_minor": 0,
  "metadata": {
    "colab": {
      "provenance": [],
      "authorship_tag": "ABX9TyM19m7OJRjzPBS1bevFUkOT",
      "include_colab_link": true
    },
    "kernelspec": {
      "name": "python3",
      "display_name": "Python 3"
    },
    "language_info": {
      "name": "python"
    }
  },
  "cells": [
    {
      "cell_type": "markdown",
      "metadata": {
        "id": "view-in-github",
        "colab_type": "text"
      },
      "source": [
        "<a href=\"https://colab.research.google.com/github/Lucianadir/skills-copilot-codespaces-vscode/blob/main/Copia_di_Untitled1.ipynb\" target=\"_parent\"><img src=\"https://colab.research.google.com/assets/colab-badge.svg\" alt=\"Open In Colab\"/></a>"
      ]
    },
    {
      "cell_type": "code",
      "execution_count": null,
      "metadata": {
        "id": "OChDy_T8hOD1"
      },
      "outputs": [],
      "source": [
        "import numpy as np\n",
        "import pandas as pd\n",
        "import matplotlib.pyplot as plt\n",
        "\n",
        "# Criando a série com os dados de titulação\n",
        "titulacao = pd.Series(20. 15, 85, 145, 320), index=(['Doutoradao', 'Mestrado', 'Especialização', 'Graduação', 'Cursos Técnicos''])\n",
        "\n",
        "# Exibindo a série\n",
        "print(titulacao)\n",
        "\n",
        "# Plotando a série\n",
        "titulacao.plot(kind='bar')\n",
        "plt.xlabel('Titulação' 'Doutorado')\n",
        "plt.ylabel('Número de Alunos' '20')\n",
        "plt.show()\n",
        "\n",
        "# Plotando a série\n",
        "titulacao.plot(kind='bar')\n",
        "plt.xlabel('Titulação' 'Mestrado')\n",
        "plt.ylabel('Número de Alunos' '15')\n",
        "plt.show()\n",
        "\n",
        "\n",
        "\n",
        "\n",
        "\n",
        "\n"
      ]
    }
  ]
}