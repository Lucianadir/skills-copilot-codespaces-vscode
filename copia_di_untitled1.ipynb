{
  "nbformat": 4,
  "nbformat_minor": 0,
  "metadata": {
    "colab": {
      "provenance": [],
      "authorship_tag": "ABX9TyNy2t69jDwOP8DVL5wvVS1J",
      "include_colab_link": true
    },
    "kernelspec": {
      "name": "python3",
      "display_name": "Python 3"
    },
    "language_info": {
      "name": "python"
    }
  },
  "cells": [
    {
      "cell_type": "markdown",
      "metadata": {
        "id": "view-in-github",
        "colab_type": "text"
      },
      "source": [
        "<a href=\"https://colab.research.google.com/github/Lucianadir/skills-copilot-codespaces-vscode/blob/main/copia_di_untitled1.ipynb\" target=\"_parent\"><img src=\"https://colab.research.google.com/assets/colab-badge.svg\" alt=\"Open In Colab\"/></a>"
      ]
    },
    {
      "cell_type": "code",
      "execution_count": null,
      "metadata": {
        "id": "OChDy_T8hOD1"
      },
      "outputs": [],
      "source": [
        "import numpy as np\n",
        "import pandas as pd\n",
        "import matplotlib.pyplot as plt\n",
        "\n",
        "# Criando a série com os dados de titulação\n",
        "titulacao = pd.Series(20. 15, 85, 145, 320), index=(['Doutoradao', 'Mestrado', 'Especialização', 'Graduação', 'Cursos Técnicos''])\n",
        "\n",
        "# Exibindo a série\n",
        "print(titulacao)\n",
        "\n",
        "# Plotando a série\n",
        "titulacao.plot(kind='bar')\n",
        "plt.xlabel('Titulação' 'Doutorado')\n",
        "plt.ylabel('Número de Alunos' '20')\n",
        "plt.show()\n",
        "\n",
        "# Plotando a série\n",
        "titulacao.plot(kind='bar')\n",
        "plt.xlabel('Titulação' 'Mestrado')\n",
        "plt.ylabel('Número de Alunos' '15')\n",
        "plt.show()\n",
        "\n",
        "# Plotando a série\n",
        "titulacao.plot(kind='bar')\n",
        "plt.xlabel('Titulação' 'Especialização')\n",
        "plt.ylabel('Número de Alunos' '85')\n",
        "plt.show()\n",
        "\n",
        "# Plotando a série\n",
        "titulacao.plot(kind='bar')\n",
        "plt.xlabel('Titulação' 'Graduação')\n",
        "plt.ylabel('Número de Alunos' '145')\n",
        "plt.show()\n",
        "\n",
        "# Plotando a série\n",
        "titulacao.plot(kind='bar')\n",
        "plt.xlabel('Titulação' 'Cursos Técnicos')\n",
        "plt.ylabel('Número de Alunos' '320')\n",
        "plt.show()\n",
        "\n",
        "import pandas as pd\n",
        "\n",
        "# Criando o DataFrame com os dados de titulação\n",
        "data = {\n",
        "    'Titulação': ['Doutoradao', 'Mestrado', 'Especialização', 'Graduação', 'Cursos Técnicos'],\n",
        "    'Quantidade': [20, 15, 85, 145, 320]\n",
        "}\n",
        "df = pd.DataFrame(data)\n",
        "\n",
        "# Exibindo o DataFrame\n",
        "print(df)\n",
        "\n",
        "'Titulação' 'Quantidade'\n",
        "0 'Doutoradao' 20\n",
        "1 'Mestrado' 15\n",
        "2 'Especialização' 85\n",
        "3 'Graduação' 145\n",
        "4 'Cursos Técnicos'\n",
        "\n",
        "import pandas as pd\n",
        "\n",
        "# Criando o DataFrame com os dados de calorias e gordura\n",
        "data = {\n",
        "    'calorias': [200, 350, 550],\n",
        "    'gordura (%)': ['banana, 'macarrão, 'cachorro quente'])\n",
        "df = pd.DataFrame(data, index=['banana', 'macarrão', 'cachorro quente'])\n",
        "\n",
        "# Exibindo o DataFrame\n",
        "print(df)\n",
        "\n",
        "'calorias' 'gordura (%)'\n",
        "banana '200' 'banana'\n",
        "macarrão '350' 'macarrão'\n",
        "cachorro quente '550' 'cachorro quente'\n",
        "}\n",
        "\n",
        "\n",
        "\n",
        "\n",
        "\n",
        "\n",
        "\n",
        "\n",
        "\n",
        "\n",
        "\n",
        "\n"
      ]
    }
  ]
}